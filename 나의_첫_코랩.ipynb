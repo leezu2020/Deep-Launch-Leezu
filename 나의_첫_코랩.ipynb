{
  "nbformat": 4,
  "nbformat_minor": 0,
  "metadata": {
    "colab": {
      "provenance": [],
      "authorship_tag": "ABX9TyNrK8OpxkTOdyU59Y6HGdK2",
      "include_colab_link": true
    },
    "kernelspec": {
      "name": "python3",
      "display_name": "Python 3"
    },
    "language_info": {
      "name": "python"
    },
    "accelerator": "GPU",
    "gpuClass": "standard"
  },
  "cells": [
    {
      "cell_type": "markdown",
      "metadata": {
        "id": "view-in-github",
        "colab_type": "text"
      },
      "source": [
        "<a href=\"https://colab.research.google.com/github/leezu2020/Deep-Launch-Leezu/blob/seventhWeek%2FChapter1/%EB%82%98%EC%9D%98_%EC%B2%AB_%EC%BD%94%EB%9E%A9.ipynb\" target=\"_parent\"><img src=\"https://colab.research.google.com/assets/colab-badge.svg\" alt=\"Open In Colab\"/></a>"
      ]
    },
    {
      "cell_type": "code",
      "execution_count": 1,
      "metadata": {
        "colab": {
          "base_uri": "https://localhost:8080/"
        },
        "id": "cJ7YxmQ8Uou2",
        "outputId": "51b31709-3a84-4fed-dad8-a3dbc94e6d33"
      },
      "outputs": [
        {
          "output_type": "stream",
          "name": "stdout",
          "text": [
            "Hello, Deeplearning!\n"
          ]
        }
      ],
      "source": [
        "print(\"Hello, Deeplearning!\")"
      ]
    },
    {
      "cell_type": "code",
      "source": [
        "import tensorflow as tf\n",
        "print(tf.__version__)"
      ],
      "metadata": {
        "colab": {
          "base_uri": "https://localhost:8080/"
        },
        "id": "LmrQHT7QVKKM",
        "outputId": "e4ef4b0c-6c53-4145-baef-9ba39bb82ce8"
      },
      "execution_count": 2,
      "outputs": [
        {
          "output_type": "stream",
          "name": "stdout",
          "text": [
            "2.12.0\n"
          ]
        }
      ]
    },
    {
      "cell_type": "markdown",
      "source": [
        "# 모두의 딥러닝\n",
        "## 모두의 딥러닝\n",
        "### 모두의 딥러닝"
      ],
      "metadata": {
        "id": "BJPguJHlVQyE"
      }
    }
  ]
}